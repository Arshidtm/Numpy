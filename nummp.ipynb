{
 "cells": [
  {
   "cell_type": "code",
   "execution_count": 1,
   "id": "053dcef2-3285-443f-9bcb-76b6c52ff25d",
   "metadata": {},
   "outputs": [],
   "source": [
    "import numpy as np"
   ]
  },
  {
   "cell_type": "code",
   "execution_count": 3,
   "id": "1e3ad744-5ab5-42aa-b56c-1eca43ac51ca",
   "metadata": {},
   "outputs": [
    {
     "data": {
      "text/plain": [
       "array([1, 2, 3, 4, 5])"
      ]
     },
     "execution_count": 3,
     "metadata": {},
     "output_type": "execute_result"
    }
   ],
   "source": [
    "arr=np.array([1,2,3,4,5])\n",
    "arr"
   ]
  },
  {
   "cell_type": "code",
   "execution_count": 25,
   "id": "e02d676c-5f77-4601-81fd-da65541fdcd8",
   "metadata": {},
   "outputs": [
    {
     "data": {
      "text/plain": [
       "array([0.43188515, 0.75600575, 0.42198728, 0.7853954 , 0.76968013])"
      ]
     },
     "execution_count": 25,
     "metadata": {},
     "output_type": "execute_result"
    }
   ],
   "source": [
    "np.random.rand(5)"
   ]
  },
  {
   "cell_type": "code",
   "execution_count": 31,
   "id": "95fb4c44-ad69-4add-a4ef-3b0f862cb864",
   "metadata": {},
   "outputs": [
    {
     "data": {
      "text/plain": [
       "array([3, 5, 5, 9, 2])"
      ]
     },
     "execution_count": 31,
     "metadata": {},
     "output_type": "execute_result"
    }
   ],
   "source": [
    "np.random.randint(1,10,5)"
   ]
  },
  {
   "cell_type": "markdown",
   "id": "fb976a60-da76-4115-9d12-daceb2bf1c10",
   "metadata": {},
   "source": [
    "**Broadcasting**\n",
    "\n",
    "*Broadcasting allows NumPy to perform operations on arrays of different shapes in a way that makes their shapes compatible. For example, adding a scalar to an array will add the scalar to every element in the array. Broadcasting is efficient because it avoids creating redundant arrays and performs operations directly on arrays of unequal shapes, if compatible.*"
   ]
  },
  {
   "cell_type": "code",
   "execution_count": 13,
   "id": "0bb145f9-7822-49f4-9eec-61d4595b123e",
   "metadata": {},
   "outputs": [
    {
     "data": {
      "text/plain": [
       "array([ 6,  7,  8,  9, 10])"
      ]
     },
     "execution_count": 13,
     "metadata": {},
     "output_type": "execute_result"
    }
   ],
   "source": [
    "arr+5"
   ]
  },
  {
   "cell_type": "code",
   "execution_count": 22,
   "id": "eb3bd01b-ff12-4b0a-852c-0614af8a8eb4",
   "metadata": {},
   "outputs": [
    {
     "data": {
      "text/plain": [
       "array([[2, 4, 4],\n",
       "       [4, 6, 6],\n",
       "       [5, 7, 7]])"
      ]
     },
     "execution_count": 22,
     "metadata": {},
     "output_type": "execute_result"
    }
   ],
   "source": [
    "arr1=np.array([1,3,3])\n",
    "arr2=np.array([[1],[3],[4]])\n",
    "arr1+arr2"
   ]
  },
  {
   "cell_type": "markdown",
   "id": "a683e1ab-fdba-4b96-bf8e-d7cb9b5e2b58",
   "metadata": {},
   "source": [
    "**Mean Median Std**"
   ]
  },
  {
   "cell_type": "code",
   "execution_count": 25,
   "id": "f2e5d391-921d-48d5-970f-4888d22222c8",
   "metadata": {},
   "outputs": [
    {
     "data": {
      "text/plain": [
       "3.0"
      ]
     },
     "execution_count": 25,
     "metadata": {},
     "output_type": "execute_result"
    }
   ],
   "source": [
    "np.mean(arr)"
   ]
  },
  {
   "cell_type": "code",
   "execution_count": 27,
   "id": "8c4fd65e-6e91-4837-a013-8aa0911183f7",
   "metadata": {},
   "outputs": [
    {
     "data": {
      "text/plain": [
       "3.0"
      ]
     },
     "execution_count": 27,
     "metadata": {},
     "output_type": "execute_result"
    }
   ],
   "source": [
    "np.median(arr)"
   ]
  },
  {
   "cell_type": "code",
   "execution_count": 32,
   "id": "cb1a2b87-11b7-49b3-bdf3-3bff8ce16553",
   "metadata": {},
   "outputs": [
    {
     "data": {
      "text/plain": [
       "1.4142135623730951"
      ]
     },
     "execution_count": 32,
     "metadata": {},
     "output_type": "execute_result"
    }
   ],
   "source": [
    "np.std(arr)"
   ]
  },
  {
   "cell_type": "markdown",
   "id": "49b95750-0d14-42ca-b02f-e19d3901e689",
   "metadata": {},
   "source": [
    "**slicing**"
   ]
  },
  {
   "cell_type": "code",
   "execution_count": 36,
   "id": "8169cbf9-9cb5-4320-b69b-f914f36b617e",
   "metadata": {},
   "outputs": [
    {
     "data": {
      "text/plain": [
       "array([2, 3])"
      ]
     },
     "execution_count": 36,
     "metadata": {},
     "output_type": "execute_result"
    }
   ],
   "source": [
    "arr[1:3]"
   ]
  },
  {
   "cell_type": "code",
   "execution_count": 42,
   "id": "5aed6559-7056-41f4-b723-a696f0b70492",
   "metadata": {},
   "outputs": [
    {
     "data": {
      "text/plain": [
       "array([[1, 2],\n",
       "       [3, 4]])"
      ]
     },
     "execution_count": 42,
     "metadata": {},
     "output_type": "execute_result"
    }
   ],
   "source": [
    "arr2=np.array([[1,2,3],[3,4,5],[43,3,2]])\n",
    "arr2[:2,:2]"
   ]
  },
  {
   "cell_type": "markdown",
   "id": "8be8ff7d-1861-428a-802a-1d822a4427ab",
   "metadata": {},
   "source": [
    "**reshape**"
   ]
  },
  {
   "cell_type": "code",
   "execution_count": 45,
   "id": "d4806105-bd93-4fcf-8ba4-67ee5bf6cdef",
   "metadata": {},
   "outputs": [
    {
     "data": {
      "text/plain": [
       "(6,)"
      ]
     },
     "execution_count": 45,
     "metadata": {},
     "output_type": "execute_result"
    }
   ],
   "source": [
    "arr=np.array([1,2,3,4,5,6])\n",
    "arr.shape"
   ]
  },
  {
   "cell_type": "code",
   "execution_count": 51,
   "id": "32ab0678-5467-4c10-9d62-f2e4a24f8373",
   "metadata": {},
   "outputs": [
    {
     "data": {
      "text/plain": [
       "(2, 3)"
      ]
     },
     "execution_count": 51,
     "metadata": {},
     "output_type": "execute_result"
    }
   ],
   "source": [
    "arr_reshape=arr.reshape(2,3)\n",
    "arr_reshape.shape"
   ]
  },
  {
   "cell_type": "code",
   "execution_count": 57,
   "id": "7b797a7e-c7cf-4005-8819-e4dc9d2e1edd",
   "metadata": {},
   "outputs": [
    {
     "name": "stdout",
     "output_type": "stream",
     "text": [
      "(3, 2)\n",
      "[[1 2]\n",
      " [3 4]\n",
      " [5 6]]\n"
     ]
    }
   ],
   "source": [
    "arr_reshape=arr.reshape(3,2)\n",
    "print(arr_reshape.shape)\n",
    "print(arr_reshape)"
   ]
  },
  {
   "cell_type": "markdown",
   "id": "d6902c0f-7e88-4a0e-80a3-34b3a6f4b73e",
   "metadata": {},
   "source": [
    "**Aggregation funtions**"
   ]
  },
  {
   "cell_type": "code",
   "execution_count": 64,
   "id": "4d172751-7d70-4e7c-85f5-3614a18276ae",
   "metadata": {},
   "outputs": [
    {
     "name": "stdout",
     "output_type": "stream",
     "text": [
      "sum=  21\n",
      "mean=  3.5\n",
      "median=  3.5\n",
      "max=  6\n",
      "min=  1\n",
      "std=  1.707825127659933\n"
     ]
    }
   ],
   "source": [
    "print('sum= ',np.sum(arr))\n",
    "print('mean= ',np.mean(arr))\n",
    "print('median= ',np.median(arr))\n",
    "print('max= ',np.max(arr))\n",
    "print('min= ',np.min(arr))\n",
    "print('std= ',np.std(arr))\n"
   ]
  },
  {
   "cell_type": "markdown",
   "id": "82134fb3-2992-4fb9-84d7-4c90818ad428",
   "metadata": {},
   "source": [
    "**Concatenate**"
   ]
  },
  {
   "cell_type": "code",
   "execution_count": 75,
   "id": "a2d2341d-3d31-4e4e-8dd0-f6d4dc1259a1",
   "metadata": {},
   "outputs": [
    {
     "data": {
      "text/plain": [
       "array([ 1,  2,  3,  3, 21,  1])"
      ]
     },
     "execution_count": 75,
     "metadata": {},
     "output_type": "execute_result"
    }
   ],
   "source": [
    "arr1=np.array([1,2,3])\n",
    "arr2=np.array([3,21,1])\n",
    "np.concatenate((arr1,arr2))"
   ]
  },
  {
   "cell_type": "code",
   "execution_count": 77,
   "id": "c13412d9-635f-4945-a20a-50a9caa6f26e",
   "metadata": {},
   "outputs": [
    {
     "ename": "ValueError",
     "evalue": "all the input arrays must have same number of dimensions, but the array at index 0 has 2 dimension(s) and the array at index 1 has 1 dimension(s)",
     "output_type": "error",
     "traceback": [
      "\u001b[1;31m---------------------------------------------------------------------------\u001b[0m",
      "\u001b[1;31mValueError\u001b[0m                                Traceback (most recent call last)",
      "Cell \u001b[1;32mIn[77], line 3\u001b[0m\n\u001b[0;32m      1\u001b[0m arr1\u001b[38;5;241m=\u001b[39mnp\u001b[38;5;241m.\u001b[39marray([[\u001b[38;5;241m1\u001b[39m,\u001b[38;5;241m2\u001b[39m,\u001b[38;5;241m3\u001b[39m],[\u001b[38;5;241m2\u001b[39m,\u001b[38;5;241m1\u001b[39m,\u001b[38;5;241m3\u001b[39m]])\n\u001b[0;32m      2\u001b[0m arr2\u001b[38;5;241m=\u001b[39mnp\u001b[38;5;241m.\u001b[39marray([\u001b[38;5;241m3\u001b[39m,\u001b[38;5;241m21\u001b[39m,\u001b[38;5;241m1\u001b[39m])\n\u001b[1;32m----> 3\u001b[0m np\u001b[38;5;241m.\u001b[39mconcatenate((arr1,arr2))\n",
      "\u001b[1;31mValueError\u001b[0m: all the input arrays must have same number of dimensions, but the array at index 0 has 2 dimension(s) and the array at index 1 has 1 dimension(s)"
     ]
    }
   ],
   "source": [
    "arr1=np.array([[1,2,3],[2,1,3]])\n",
    "arr2=np.array([3,21,1])\n",
    "np.concatenate((arr1,arr2))"
   ]
  },
  {
   "cell_type": "code",
   "execution_count": 79,
   "id": "cb549ac7-14a6-4c01-ac71-901141cdabe0",
   "metadata": {},
   "outputs": [
    {
     "data": {
      "text/plain": [
       "array([ 1,  2,  3,  2,  1,  3,  3, 21,  1])"
      ]
     },
     "execution_count": 79,
     "metadata": {},
     "output_type": "execute_result"
    }
   ],
   "source": [
    "arr1=np.array([[1,2,3],[2,1,3]])\n",
    "arr2=np.array([3,21,1])\n",
    "np.concatenate((arr1,arr2),axis=None)"
   ]
  },
  {
   "cell_type": "markdown",
   "id": "38af53af-d92b-4044-a0fd-712249ad2869",
   "metadata": {},
   "source": [
    "**handiling missing value**"
   ]
  },
  {
   "cell_type": "code",
   "execution_count": 82,
   "id": "1846c61c-132b-42a2-beea-a7d809be8603",
   "metadata": {},
   "outputs": [
    {
     "data": {
      "text/plain": [
       "array([ 2.,  3., nan,  5.,  3.])"
      ]
     },
     "execution_count": 82,
     "metadata": {},
     "output_type": "execute_result"
    }
   ],
   "source": [
    "arrna=np.array([2,3,np.nan,5,3])\n",
    "arrna"
   ]
  },
  {
   "cell_type": "code",
   "execution_count": 96,
   "id": "c6c6dd77-be22-4fe0-b17f-794558e518a9",
   "metadata": {},
   "outputs": [
    {
     "data": {
      "text/plain": [
       "array([False, False,  True, False, False])"
      ]
     },
     "execution_count": 96,
     "metadata": {},
     "output_type": "execute_result"
    }
   ],
   "source": [
    "np.isnan(arrna)"
   ]
  },
  {
   "cell_type": "code",
   "execution_count": 86,
   "id": "c31d1851-dbbf-4e85-b4d8-bf94752e1f76",
   "metadata": {},
   "outputs": [
    {
     "name": "stdout",
     "output_type": "stream",
     "text": [
      "sum=  13.0\n",
      "mean=  3.25\n",
      "median=  3.0\n",
      "max=  5.0\n",
      "min=  2.0\n",
      "std=  1.0897247358851685\n"
     ]
    }
   ],
   "source": [
    "print('sum= ',np.nansum(arrna))\n",
    "print('mean= ',np.nanmean(arrna))\n",
    "print('median= ',np.nanmedian(arrna))\n",
    "print('max= ',np.nanmax(arrna))\n",
    "print('min= ',np.nanmin(arrna))\n",
    "print('std= ',np.nanstd(arrna))"
   ]
  },
  {
   "cell_type": "markdown",
   "id": "f7554524-32e6-4193-b15c-7f6a7af1fda2",
   "metadata": {},
   "source": [
    "**np.copy() and =**"
   ]
  },
  {
   "cell_type": "code",
   "execution_count": 101,
   "id": "96dab568-2dc7-4c86-8195-68a807d1a778",
   "metadata": {},
   "outputs": [
    {
     "name": "stdout",
     "output_type": "stream",
     "text": [
      "arr_copy= [ 2  3  4 23  1]\n",
      "arr_reference= [ 2  3 44  2  1]\n",
      "arr_orginal= [ 2  3 44  2  1]\n"
     ]
    }
   ],
   "source": [
    "arr=np.array([2,3,4,2,1])\n",
    "arr_copy=np.copy(arr)\n",
    "arr_reference=arr\n",
    "arr_copy[3]=23\n",
    "print(\"arr_copy=\",arr_copy)\n",
    "arr_reference[2]=44\n",
    "print(\"arr_reference=\",arr_reference)\n",
    "print(\"arr_orginal=\",arr)\n"
   ]
  },
  {
   "cell_type": "markdown",
   "id": "62719a1f-6fb2-41b7-8abb-b0bbb4f0dc4f",
   "metadata": {},
   "source": [
    "**element wise multiplication**"
   ]
  },
  {
   "cell_type": "code",
   "execution_count": 104,
   "id": "2f85dadb-e814-4366-b3fe-f6268ad5ee7a",
   "metadata": {},
   "outputs": [
    {
     "data": {
      "text/plain": [
       "array([ 1, 16,  6, 24, 20])"
      ]
     },
     "execution_count": 104,
     "metadata": {},
     "output_type": "execute_result"
    }
   ],
   "source": [
    "arr1=np.array([1,2,3,4,5])\n",
    "arr2=np.array([1,8,2,6,4])\n",
    "arr1*arr2"
   ]
  },
  {
   "cell_type": "code",
   "execution_count": 106,
   "id": "af96c022-a64d-41a1-9dc2-2aaa0bd2a45b",
   "metadata": {},
   "outputs": [
    {
     "data": {
      "text/plain": [
       "array([ 1, 16,  6, 24, 20])"
      ]
     },
     "execution_count": 106,
     "metadata": {},
     "output_type": "execute_result"
    }
   ],
   "source": [
    "np.multiply(arr1,arr2)"
   ]
  },
  {
   "cell_type": "markdown",
   "id": "599d7529-b77e-40e6-9773-1833768be65c",
   "metadata": {},
   "source": [
    "**unique element**"
   ]
  },
  {
   "cell_type": "code",
   "execution_count": 115,
   "id": "522c071e-cc41-4bb6-a626-61fce0e37014",
   "metadata": {},
   "outputs": [
    {
     "data": {
      "text/plain": [
       "array([1, 2, 4, 6, 8])"
      ]
     },
     "execution_count": 115,
     "metadata": {},
     "output_type": "execute_result"
    }
   ],
   "source": [
    "arr2=np.array([1,8,2,2,4,6,4])\n",
    "np.unique(arr2)"
   ]
  },
  {
   "cell_type": "code",
   "execution_count": 117,
   "id": "3d18ecdc-6cbe-4d76-8be3-944832a10e0e",
   "metadata": {},
   "outputs": [
    {
     "data": {
      "text/plain": [
       "(array([1, 2, 4, 6, 8]), array([1, 2, 2, 1, 1], dtype=int64))"
      ]
     },
     "execution_count": 117,
     "metadata": {},
     "output_type": "execute_result"
    }
   ],
   "source": [
    "np.unique(arr2,return_counts=True)"
   ]
  },
  {
   "cell_type": "markdown",
   "id": "872f7e87-e61e-45f0-a9b4-501f31e91d82",
   "metadata": {},
   "source": [
    "**Matrix multiplication**"
   ]
  },
  {
   "cell_type": "code",
   "execution_count": 120,
   "id": "283c24c2-e22e-47a3-ab17-22653fe433e9",
   "metadata": {},
   "outputs": [
    {
     "data": {
      "text/plain": [
       "array([[19, 22],\n",
       "       [43, 50]])"
      ]
     },
     "execution_count": 120,
     "metadata": {},
     "output_type": "execute_result"
    }
   ],
   "source": [
    "matrix1 = np.array([[1, 2], [3, 4]])\n",
    "matrix2 = np.array([[5, 6], [7, 8]])\n",
    "np.dot(matrix1,matrix2)"
   ]
  },
  {
   "cell_type": "markdown",
   "id": "c2bba282-3702-4108-9e29-c00819a348c2",
   "metadata": {},
   "source": [
    "**sorting by multiple columns**"
   ]
  },
  {
   "cell_type": "code",
   "execution_count": 126,
   "id": "436a7580-1b96-407b-814d-140aafa8b71d",
   "metadata": {},
   "outputs": [
    {
     "data": {
      "text/plain": [
       "array([2, 3])"
      ]
     },
     "execution_count": 126,
     "metadata": {},
     "output_type": "execute_result"
    }
   ],
   "source": [
    "matrix1 = np.array([[1, 2], [3, 4]])\n",
    "arr[np.lexsort((matrix1[:,1],matrix1[:,0]))]"
   ]
  },
  {
   "cell_type": "code",
   "execution_count": 128,
   "id": "f679632f-68bf-40d8-a0a8-9c27230226bb",
   "metadata": {},
   "outputs": [
    {
     "name": "stdout",
     "output_type": "stream",
     "text": [
      "[[1 2]\n",
      " [1 3]\n",
      " [2 2]]\n"
     ]
    }
   ],
   "source": [
    "array = np.array([[1, 3], [2, 2], [1, 2]])\n",
    "sorted_array = array[np.lexsort((array[:, 1], array[:, 0]))]\n",
    "print(sorted_array)\n"
   ]
  },
  {
   "cell_type": "markdown",
   "id": "3eabd68f-11ca-42c7-af81-c7a81fa2f32a",
   "metadata": {},
   "source": [
    "**Custom funtion to perform on element-wise**"
   ]
  },
  {
   "cell_type": "code",
   "execution_count": 131,
   "id": "f7d3c228-3501-417c-8d5f-871f59bbf9fa",
   "metadata": {},
   "outputs": [
    {
     "data": {
      "text/plain": [
       "array([ 6, 13,  7,  7,  9, 11,  9])"
      ]
     },
     "execution_count": 131,
     "metadata": {},
     "output_type": "execute_result"
    }
   ],
   "source": [
    "def cust(x):\n",
    "    return x+5\n",
    "vectorized_func=np.vectorize(cust)\n",
    "arr2=np.array([1,8,2,2,4,6,4])\n",
    "vectorized_func(arr2)\n"
   ]
  },
  {
   "cell_type": "markdown",
   "id": "cda8c4ad-4828-46b1-9e45-6051ed8ed70b",
   "metadata": {},
   "source": [
    "**create memory-mapped arrays that reside on disk rather than in RAM**"
   ]
  },
  {
   "cell_type": "code",
   "execution_count": 136,
   "id": "1963d498-4c7b-4264-8b3e-b4911646fac0",
   "metadata": {},
   "outputs": [],
   "source": [
    "# np.memmap()"
   ]
  },
  {
   "cell_type": "markdown",
   "id": "a569afd7-3a54-49b0-a4b2-de02b05c51df",
   "metadata": {},
   "source": [
    "**get indices for given condition**"
   ]
  },
  {
   "cell_type": "code",
   "execution_count": 141,
   "id": "a21ffa0e-5763-4f69-a15c-fd704accbd49",
   "metadata": {},
   "outputs": [
    {
     "data": {
      "text/plain": [
       "(array([1, 5], dtype=int64),)"
      ]
     },
     "execution_count": 141,
     "metadata": {},
     "output_type": "execute_result"
    }
   ],
   "source": [
    "arr2=np.array([1,8,2,2,4,6,4])\n",
    "np.where(arr2>4)"
   ]
  },
  {
   "cell_type": "markdown",
   "id": "dd991883-9c73-41c7-ab50-847bf5a93b38",
   "metadata": {},
   "source": [
    "**np.all() and np.any()**"
   ]
  },
  {
   "cell_type": "code",
   "execution_count": 144,
   "id": "fa614792-d53d-4988-bc86-a16a4f3ae827",
   "metadata": {},
   "outputs": [
    {
     "data": {
      "text/plain": [
       "False"
      ]
     },
     "execution_count": 144,
     "metadata": {},
     "output_type": "execute_result"
    }
   ],
   "source": [
    "arr2=np.array([1,8,2,2,4,6,4])\n",
    "np.all(arr2>2)"
   ]
  },
  {
   "cell_type": "code",
   "execution_count": 146,
   "id": "9ac02336-5864-41ac-bae2-05974a4cd6ee",
   "metadata": {},
   "outputs": [
    {
     "data": {
      "text/plain": [
       "True"
      ]
     },
     "execution_count": 146,
     "metadata": {},
     "output_type": "execute_result"
    }
   ],
   "source": [
    "np.any(arr2>2)"
   ]
  },
  {
   "cell_type": "markdown",
   "id": "80089664-5e4f-4b58-b805-5521f3a1de06",
   "metadata": {},
   "source": [
    "**Euclidean distance**"
   ]
  },
  {
   "cell_type": "code",
   "execution_count": 151,
   "id": "62f2efab-1c28-401e-b0d4-13542ff4a03f",
   "metadata": {},
   "outputs": [
    {
     "data": {
      "text/plain": [
       "4.242640687119285"
      ]
     },
     "execution_count": 151,
     "metadata": {},
     "output_type": "execute_result"
    }
   ],
   "source": [
    "point1=np.array([1,2])\n",
    "point2=np.array([4,5])\n",
    "np.linalg.norm(point1-point2)"
   ]
  },
  {
   "cell_type": "code",
   "execution_count": 153,
   "id": "55c483c1-6615-45a3-b8af-962bb6fca88d",
   "metadata": {},
   "outputs": [
    {
     "data": {
      "text/plain": [
       "4.242640687119285"
      ]
     },
     "execution_count": 153,
     "metadata": {},
     "output_type": "execute_result"
    }
   ],
   "source": [
    "np.sqrt(np.sum((point1-point2)**2))"
   ]
  },
  {
   "cell_type": "markdown",
   "id": "06aad0ee-15e8-48ec-a87a-1a87cd45012f",
   "metadata": {},
   "source": [
    "**Normalizing**"
   ]
  },
  {
   "cell_type": "code",
   "execution_count": 161,
   "id": "e4a45b12-bb29-453a-8d22-1b5c9bcf2e79",
   "metadata": {},
   "outputs": [
    {
     "data": {
      "text/plain": [
       "array([0.        , 0.33333333, 1.        , 0.66666667])"
      ]
     },
     "execution_count": 161,
     "metadata": {},
     "output_type": "execute_result"
    }
   ],
   "source": [
    "arr=np.array([1,2,4,3])\n",
    "new_arr=(arr-arr.min())/(arr.max()-arr.min())\n",
    "new_arr"
   ]
  },
  {
   "cell_type": "code",
   "execution_count": 164,
   "id": "b997d0ee-07ae-45c5-b411-b39f69aa3a83",
   "metadata": {},
   "outputs": [
    {
     "data": {
      "text/plain": [
       "array([-1.34164079, -0.4472136 ,  1.34164079,  0.4472136 ])"
      ]
     },
     "execution_count": 164,
     "metadata": {},
     "output_type": "execute_result"
    }
   ],
   "source": [
    "(arr-np.mean(arr))/np.std(arr)"
   ]
  },
  {
   "cell_type": "markdown",
   "id": "01d9ca7a-d168-4075-bab2-346ac25f2fc9",
   "metadata": {},
   "source": [
    "**Correlation matrix**"
   ]
  },
  {
   "cell_type": "code",
   "execution_count": 171,
   "id": "363397f1-deb6-4bb5-a8f1-895ee873b476",
   "metadata": {},
   "outputs": [
    {
     "data": {
      "text/plain": [
       "array([[ 1. , -0.5],\n",
       "       [-0.5,  1. ]])"
      ]
     },
     "execution_count": 171,
     "metadata": {},
     "output_type": "execute_result"
    }
   ],
   "source": [
    "array = np.array([[1, 3], [2, 2], [1, 2]])\n",
    "np.corrcoef(array,rowvar=False)"
   ]
  },
  {
   "cell_type": "markdown",
   "id": "ea4353a0-8ce5-48ea-8aae-c381d83255ec",
   "metadata": {},
   "source": [
    "**Cumulative sum**"
   ]
  },
  {
   "cell_type": "code",
   "execution_count": 174,
   "id": "5bc57217-7692-40e8-adfe-6414cda71828",
   "metadata": {},
   "outputs": [
    {
     "data": {
      "text/plain": [
       "array([1, 2, 4, 3])"
      ]
     },
     "execution_count": 174,
     "metadata": {},
     "output_type": "execute_result"
    }
   ],
   "source": [
    "arr"
   ]
  },
  {
   "cell_type": "code",
   "execution_count": 176,
   "id": "c4dd693d-5e58-44bf-a089-180c1d1cab53",
   "metadata": {},
   "outputs": [
    {
     "data": {
      "text/plain": [
       "array([ 1,  3,  7, 10])"
      ]
     },
     "execution_count": 176,
     "metadata": {},
     "output_type": "execute_result"
    }
   ],
   "source": [
    "np.cumsum(arr)"
   ]
  },
  {
   "cell_type": "markdown",
   "id": "ffb2f1fd-3772-4b85-8b73-97c548232e1a",
   "metadata": {},
   "source": [
    "**Weighted avg**"
   ]
  },
  {
   "cell_type": "code",
   "execution_count": 181,
   "id": "127d698c-8af1-4dfa-becc-3b3a731de7a6",
   "metadata": {},
   "outputs": [
    {
     "data": {
      "text/plain": [
       "23.333333333333332"
      ]
     },
     "execution_count": 181,
     "metadata": {},
     "output_type": "execute_result"
    }
   ],
   "source": [
    "data = np.array([10, 20, 30])\n",
    "weights = np.array([1, 2, 3])\n",
    "np.average(data,weights=weights)"
   ]
  },
  {
   "cell_type": "markdown",
   "id": "8a710442-8b2b-4f2b-b45f-ca24ffae0700",
   "metadata": {},
   "source": [
    "## Linear Algebra"
   ]
  },
  {
   "cell_type": "markdown",
   "id": "50a20501-9ddd-44d4-9c32-92cd95d1f6f5",
   "metadata": {},
   "source": [
    "**Creating and Transposing Matrices**"
   ]
  },
  {
   "cell_type": "code",
   "execution_count": 185,
   "id": "f9203283-fb03-4db3-bb69-ba9a15801bbd",
   "metadata": {},
   "outputs": [
    {
     "data": {
      "text/plain": [
       "array([[1, 2],\n",
       "       [3, 4]])"
      ]
     },
     "execution_count": 185,
     "metadata": {},
     "output_type": "execute_result"
    }
   ],
   "source": [
    "A = np.array([[1, 2], [3, 4]])\n",
    "A"
   ]
  },
  {
   "cell_type": "code",
   "execution_count": 187,
   "id": "77bb860d-2f2b-4ea2-ba00-4d7db712f015",
   "metadata": {},
   "outputs": [
    {
     "data": {
      "text/plain": [
       "array([[1, 3],\n",
       "       [2, 4]])"
      ]
     },
     "execution_count": 187,
     "metadata": {},
     "output_type": "execute_result"
    }
   ],
   "source": [
    "A.T #Transpose"
   ]
  },
  {
   "cell_type": "markdown",
   "id": "f6ba5a24-65d3-4bd3-8a07-75f64905d546",
   "metadata": {},
   "source": [
    "**Matrix Multiplication**"
   ]
  },
  {
   "cell_type": "code",
   "execution_count": 192,
   "id": "bbd2d6ef-db95-4d10-8c3b-9321479bcd41",
   "metadata": {},
   "outputs": [
    {
     "data": {
      "text/plain": [
       "array([[ 1,  4],\n",
       "       [ 9, 16]])"
      ]
     },
     "execution_count": 192,
     "metadata": {},
     "output_type": "execute_result"
    }
   ],
   "source": [
    "A*A #element wise"
   ]
  },
  {
   "cell_type": "code",
   "execution_count": 194,
   "id": "a53666ba-51b1-47dc-8ed7-788cfe9abdc2",
   "metadata": {},
   "outputs": [
    {
     "data": {
      "text/plain": [
       "array([[ 7, 10],\n",
       "       [15, 22]])"
      ]
     },
     "execution_count": 194,
     "metadata": {},
     "output_type": "execute_result"
    }
   ],
   "source": [
    "np.dot(A,A)"
   ]
  },
  {
   "cell_type": "markdown",
   "id": "65cafb85-ceac-49ca-baec-437642fef64c",
   "metadata": {},
   "source": [
    "**Determinant**"
   ]
  },
  {
   "cell_type": "code",
   "execution_count": 199,
   "id": "999caeb2-9c58-4271-8a20-82c96f29d04e",
   "metadata": {},
   "outputs": [
    {
     "data": {
      "text/plain": [
       "-2.0000000000000004"
      ]
     },
     "execution_count": 199,
     "metadata": {},
     "output_type": "execute_result"
    }
   ],
   "source": [
    "np.linalg.det(A)"
   ]
  },
  {
   "cell_type": "markdown",
   "id": "3b5a82df-3e65-48e5-944e-d307d10c7a80",
   "metadata": {},
   "source": [
    "**Inverse**"
   ]
  },
  {
   "cell_type": "code",
   "execution_count": 202,
   "id": "61546cb0-34ec-4132-8ec0-65f29dcbb9c8",
   "metadata": {},
   "outputs": [
    {
     "data": {
      "text/plain": [
       "array([[-2. ,  1. ],\n",
       "       [ 1.5, -0.5]])"
      ]
     },
     "execution_count": 202,
     "metadata": {},
     "output_type": "execute_result"
    }
   ],
   "source": [
    "np.linalg.inv(A)"
   ]
  },
  {
   "cell_type": "markdown",
   "id": "b5c4ba53-350a-4e56-b904-52ef8702a91a",
   "metadata": {},
   "source": [
    "**Eigenvalues and Eigenvectors**"
   ]
  },
  {
   "cell_type": "code",
   "execution_count": 205,
   "id": "b9a18a63-ce61-445a-9e8c-2fa212fd10e1",
   "metadata": {},
   "outputs": [],
   "source": [
    "eig_val,eig_vect=np.linalg.eig(A)"
   ]
  },
  {
   "cell_type": "code",
   "execution_count": 209,
   "id": "59e23584-7fe3-4857-b4b9-faf0ee632e9b",
   "metadata": {},
   "outputs": [
    {
     "data": {
      "text/plain": [
       "array([-0.37228132,  5.37228132])"
      ]
     },
     "execution_count": 209,
     "metadata": {},
     "output_type": "execute_result"
    }
   ],
   "source": [
    "eig_val"
   ]
  },
  {
   "cell_type": "code",
   "execution_count": 211,
   "id": "a75bd5d2-c7cf-486b-b22f-ad8ac13a0784",
   "metadata": {},
   "outputs": [
    {
     "data": {
      "text/plain": [
       "array([[-0.82456484, -0.41597356],\n",
       "       [ 0.56576746, -0.90937671]])"
      ]
     },
     "execution_count": 211,
     "metadata": {},
     "output_type": "execute_result"
    }
   ],
   "source": [
    "eig_vect"
   ]
  },
  {
   "cell_type": "markdown",
   "id": "44933937-1377-4ef6-9c35-aa85957bd7d9",
   "metadata": {},
   "source": [
    " **Solving Linear Equations**"
   ]
  },
  {
   "cell_type": "code",
   "execution_count": 214,
   "id": "11e6940d-346b-4196-afd0-50c0b140ffbd",
   "metadata": {},
   "outputs": [
    {
     "data": {
      "text/plain": [
       "array([-1. ,  1.5])"
      ]
     },
     "execution_count": 214,
     "metadata": {},
     "output_type": "execute_result"
    }
   ],
   "source": [
    "b=np.array([2,3])\n",
    "x=np.linalg.solve(A,b)\n",
    "x"
   ]
  },
  {
   "cell_type": "markdown",
   "id": "786b75d5-e585-4d6a-b064-3afa11de5270",
   "metadata": {},
   "source": [
    "**Norms of a Vector or Matrix** \n",
    "\n",
    "*Euclidean norm & Manhattan norm*"
   ]
  },
  {
   "cell_type": "code",
   "execution_count": 217,
   "id": "010ab455-3a96-4cf4-9521-fe0ac78ea352",
   "metadata": {},
   "outputs": [
    {
     "data": {
      "text/plain": [
       "2.23606797749979"
      ]
     },
     "execution_count": 217,
     "metadata": {},
     "output_type": "execute_result"
    }
   ],
   "source": [
    "vec=np.array([1,2])\n",
    "np.linalg.norm(vec,ord=2) # Euclidean norm"
   ]
  },
  {
   "cell_type": "code",
   "execution_count": 219,
   "id": "a45c87f4-1e49-4c2d-a23e-287283e474aa",
   "metadata": {},
   "outputs": [
    {
     "data": {
      "text/plain": [
       "3.0"
      ]
     },
     "execution_count": 219,
     "metadata": {},
     "output_type": "execute_result"
    }
   ],
   "source": [
    "np.linalg.norm(vec, ord=1)  # Manhattan norm\n"
   ]
  },
  {
   "cell_type": "code",
   "execution_count": 37,
   "id": "b8b74d49-9d23-4514-982c-06be396d8e3c",
   "metadata": {},
   "outputs": [],
   "source": [
    "dtype=[('name','U10'),('age','i4')]\n",
    "arr=np.array([('Arshid',24),('Arun',25)],dtype=dtype)\n",
    "\n",
    "import pandas as pd\n",
    "df=pd.DataFrame(arr)"
   ]
  },
  {
   "cell_type": "code",
   "execution_count": 39,
   "id": "856ba1e4-5a89-4f8a-8d7e-e9dfb29e9527",
   "metadata": {},
   "outputs": [
    {
     "data": {
      "text/html": [
       "<div>\n",
       "<style scoped>\n",
       "    .dataframe tbody tr th:only-of-type {\n",
       "        vertical-align: middle;\n",
       "    }\n",
       "\n",
       "    .dataframe tbody tr th {\n",
       "        vertical-align: top;\n",
       "    }\n",
       "\n",
       "    .dataframe thead th {\n",
       "        text-align: right;\n",
       "    }\n",
       "</style>\n",
       "<table border=\"1\" class=\"dataframe\">\n",
       "  <thead>\n",
       "    <tr style=\"text-align: right;\">\n",
       "      <th></th>\n",
       "      <th>name</th>\n",
       "      <th>age</th>\n",
       "    </tr>\n",
       "  </thead>\n",
       "  <tbody>\n",
       "    <tr>\n",
       "      <th>0</th>\n",
       "      <td>Arshid</td>\n",
       "      <td>24</td>\n",
       "    </tr>\n",
       "    <tr>\n",
       "      <th>1</th>\n",
       "      <td>Arun</td>\n",
       "      <td>25</td>\n",
       "    </tr>\n",
       "  </tbody>\n",
       "</table>\n",
       "</div>"
      ],
      "text/plain": [
       "     name  age\n",
       "0  Arshid   24\n",
       "1    Arun   25"
      ]
     },
     "execution_count": 39,
     "metadata": {},
     "output_type": "execute_result"
    }
   ],
   "source": [
    "df"
   ]
  },
  {
   "cell_type": "code",
   "execution_count": null,
   "id": "3ac16d92-833b-476e-beef-0c82fc8a759c",
   "metadata": {},
   "outputs": [],
   "source": []
  }
 ],
 "metadata": {
  "kernelspec": {
   "display_name": "Python 3 (ipykernel)",
   "language": "python",
   "name": "python3"
  },
  "language_info": {
   "codemirror_mode": {
    "name": "ipython",
    "version": 3
   },
   "file_extension": ".py",
   "mimetype": "text/x-python",
   "name": "python",
   "nbconvert_exporter": "python",
   "pygments_lexer": "ipython3",
   "version": "3.12.7"
  }
 },
 "nbformat": 4,
 "nbformat_minor": 5
}
