{
 "cells": [
  {
   "cell_type": "markdown",
   "id": "d41b378c-1284-49b8-8cb2-e18da010f9e5",
   "metadata": {},
   "source": [
    "**Numpy**"
   ]
  },
  {
   "cell_type": "code",
   "execution_count": null,
   "id": "f2ced1d2-72ce-400a-a8f1-d47df1ee5568",
   "metadata": {},
   "outputs": [],
   "source": [
    "import numpy as np"
   ]
  },
  {
   "cell_type": "markdown",
   "id": "5627b208-70ef-4af0-8cb8-b5b52dc3bb14",
   "metadata": {},
   "source": [
    "**python List**"
   ]
  },
  {
   "cell_type": "code",
   "execution_count": 6,
   "id": "c4cd5b9c-065e-49ad-81ef-59bd0b72a0ed",
   "metadata": {},
   "outputs": [
    {
     "data": {
      "text/plain": [
       "[1, 2, 2, 3, 4, 6]"
      ]
     },
     "execution_count": 6,
     "metadata": {},
     "output_type": "execute_result"
    }
   ],
   "source": [
    "# basic python list\n",
    "lst1=[1,2,2,3,4,6]\n",
    "lst1"
   ]
  },
  {
   "cell_type": "code",
   "execution_count": 10,
   "id": "cf6b4c26-2783-4971-8a08-e7be0def5eca",
   "metadata": {},
   "outputs": [
    {
     "data": {
      "text/plain": [
       "['name', 3, 5, [2, 3, 4, 5], True]"
      ]
     },
     "execution_count": 10,
     "metadata": {},
     "output_type": "execute_result"
    }
   ],
   "source": [
    "lst2=['name',3,5,[2,3,4,5],True]\n",
    "lst2"
   ]
  },
  {
   "cell_type": "markdown",
   "id": "70396333-28a9-4d33-a583-193e15c6c548",
   "metadata": {},
   "source": [
    "**Numpy - Numeric Python**"
   ]
  },
  {
   "cell_type": "code",
   "execution_count": 13,
   "id": "937892fb-91d8-45b4-8963-6747ed93bf70",
   "metadata": {},
   "outputs": [
    {
     "data": {
      "text/plain": [
       "array([2, 3, 4, 1, 3, 5, 6])"
      ]
     },
     "execution_count": 13,
     "metadata": {},
     "output_type": "execute_result"
    }
   ],
   "source": [
    "# Numpy array dtype -- ndarray\n",
    "np1=np.array([2,3,4,1,3,5,6])\n",
    "np1"
   ]
  },
  {
   "cell_type": "code",
   "execution_count": 15,
   "id": "fd8d766d-eafe-4643-8900-79071267acd0",
   "metadata": {},
   "outputs": [
    {
     "data": {
      "text/plain": [
       "(7,)"
      ]
     },
     "execution_count": 15,
     "metadata": {},
     "output_type": "execute_result"
    }
   ],
   "source": [
    "# shape of array\n",
    "np1.shape"
   ]
  },
  {
   "cell_type": "code",
   "execution_count": 17,
   "id": "f2079cc7-404d-4595-bbe0-c92045f5f20b",
   "metadata": {},
   "outputs": [
    {
     "data": {
      "text/plain": [
       "array([0, 1, 2, 3, 4, 5, 6, 7, 8, 9])"
      ]
     },
     "execution_count": 17,
     "metadata": {},
     "output_type": "execute_result"
    }
   ],
   "source": [
    "# by range\n",
    "np2=np.arange(10)\n",
    "np2"
   ]
  },
  {
   "cell_type": "code",
   "execution_count": 21,
   "id": "25f594cf-8bea-4258-981e-9e96b4d47137",
   "metadata": {},
   "outputs": [
    {
     "data": {
      "text/plain": [
       "array([0, 2, 4, 6, 8])"
      ]
     },
     "execution_count": 21,
     "metadata": {},
     "output_type": "execute_result"
    }
   ],
   "source": [
    "# range by step\n",
    "np3=np.arange(0,10,2)\n",
    "np3"
   ]
  },
  {
   "cell_type": "code",
   "execution_count": 42,
   "id": "8ec00a30-6982-4bc9-bdc6-e13189440aa2",
   "metadata": {},
   "outputs": [
    {
     "data": {
      "text/plain": [
       "array([[1, 2, 4],\n",
       "       [5, 3, 0],\n",
       "       [4, 6, 8]])"
      ]
     },
     "execution_count": 42,
     "metadata": {},
     "output_type": "execute_result"
    }
   ],
   "source": [
    "# multi dimensional array\n",
    "npp=np.array([[1,2,4],[5,3,0],[4,6,8]])\n",
    "npp"
   ]
  },
  {
   "cell_type": "code",
   "execution_count": 44,
   "id": "c996c1cd-d7d1-434f-afd0-6f66e939e8f0",
   "metadata": {},
   "outputs": [
    {
     "data": {
      "text/plain": [
       "(3, 3)"
      ]
     },
     "execution_count": 44,
     "metadata": {},
     "output_type": "execute_result"
    }
   ],
   "source": [
    "npp.shape"
   ]
  },
  {
   "cell_type": "code",
   "execution_count": 23,
   "id": "33f573e3-d411-425b-a805-70538b420da9",
   "metadata": {},
   "outputs": [
    {
     "data": {
      "text/plain": [
       "array([0., 0., 0., 0., 0., 0., 0., 0., 0., 0.])"
      ]
     },
     "execution_count": 23,
     "metadata": {},
     "output_type": "execute_result"
    }
   ],
   "source": [
    "# Zeros\n",
    "np4=np.zeros(10)\n",
    "np4"
   ]
  },
  {
   "cell_type": "code",
   "execution_count": 25,
   "id": "2b062ad2-ad49-4c60-a1c9-680704c8c8bb",
   "metadata": {},
   "outputs": [
    {
     "data": {
      "text/plain": [
       "array([[0., 0., 0., 0., 0.],\n",
       "       [0., 0., 0., 0., 0.]])"
      ]
     },
     "execution_count": 25,
     "metadata": {},
     "output_type": "execute_result"
    }
   ],
   "source": [
    "#2-d array\n",
    "np.zeros((2,5))"
   ]
  },
  {
   "cell_type": "code",
   "execution_count": 29,
   "id": "e6d5b0a7-0838-49ba-a05f-ee107b015caa",
   "metadata": {},
   "outputs": [
    {
     "data": {
      "text/plain": [
       "array([6, 6, 6, 6, 6, 6, 6, 6, 6, 6])"
      ]
     },
     "execution_count": 29,
     "metadata": {},
     "output_type": "execute_result"
    }
   ],
   "source": [
    "# full \n",
    "np5=np.full((10),6)\n",
    "np5"
   ]
  },
  {
   "cell_type": "code",
   "execution_count": 31,
   "id": "2ac9a53c-3adb-469b-a875-60b5d03faaf6",
   "metadata": {},
   "outputs": [
    {
     "data": {
      "text/plain": [
       "array([[6, 6, 6, 6, 6],\n",
       "       [6, 6, 6, 6, 6]])"
      ]
     },
     "execution_count": 31,
     "metadata": {},
     "output_type": "execute_result"
    }
   ],
   "source": [
    "np6=np.full((2,5),6)\n",
    "np6"
   ]
  },
  {
   "cell_type": "code",
   "execution_count": 37,
   "id": "555d0515-4de6-42c1-8346-f4c28cd99b23",
   "metadata": {},
   "outputs": [
    {
     "data": {
      "text/plain": [
       "array([1, 2, 2, 3, 4, 6])"
      ]
     },
     "execution_count": 37,
     "metadata": {},
     "output_type": "execute_result"
    }
   ],
   "source": [
    "# convert python list to numpy array\n",
    "np7=np.array(lst1)\n",
    "np7"
   ]
  },
  {
   "cell_type": "code",
   "execution_count": 39,
   "id": "698b79c4-a008-4da4-8b98-cc510521d4fe",
   "metadata": {},
   "outputs": [
    {
     "ename": "ValueError",
     "evalue": "setting an array element with a sequence. The requested array has an inhomogeneous shape after 1 dimensions. The detected shape was (5,) + inhomogeneous part.",
     "output_type": "error",
     "traceback": [
      "\u001b[1;31m---------------------------------------------------------------------------\u001b[0m",
      "\u001b[1;31mValueError\u001b[0m                                Traceback (most recent call last)",
      "Cell \u001b[1;32mIn[39], line 2\u001b[0m\n\u001b[0;32m      1\u001b[0m lst2\u001b[38;5;241m=\u001b[39m[\u001b[38;5;124m'\u001b[39m\u001b[38;5;124mname\u001b[39m\u001b[38;5;124m'\u001b[39m,\u001b[38;5;241m3\u001b[39m,\u001b[38;5;241m5\u001b[39m,[\u001b[38;5;241m2\u001b[39m,\u001b[38;5;241m3\u001b[39m,\u001b[38;5;241m4\u001b[39m,\u001b[38;5;241m5\u001b[39m],\u001b[38;5;28;01mTrue\u001b[39;00m]\n\u001b[1;32m----> 2\u001b[0m np8\u001b[38;5;241m=\u001b[39mnp\u001b[38;5;241m.\u001b[39marray(lst2)\n\u001b[0;32m      3\u001b[0m np8\n",
      "\u001b[1;31mValueError\u001b[0m: setting an array element with a sequence. The requested array has an inhomogeneous shape after 1 dimensions. The detected shape was (5,) + inhomogeneous part."
     ]
    }
   ],
   "source": [
    "lst2=['name',3,5,[2,3,4,5],True]\n",
    "np8=np.array(lst2)\n",
    "np8"
   ]
  },
  {
   "cell_type": "markdown",
   "id": "86a99ce7-efda-4db5-b885-3b70dc7b4dd6",
   "metadata": {},
   "source": [
    "**Slicing Numpy array**"
   ]
  },
  {
   "cell_type": "code",
   "execution_count": 46,
   "id": "cdcca89c-8015-4570-a493-5ce149dd607b",
   "metadata": {},
   "outputs": [
    {
     "data": {
      "text/plain": [
       "array([2, 3, 5, 6])"
      ]
     },
     "execution_count": 46,
     "metadata": {},
     "output_type": "execute_result"
    }
   ],
   "source": [
    "np11=np.array([1,2,3,5,6,7,8,9,4])\n",
    "np11[1:5]"
   ]
  },
  {
   "cell_type": "code",
   "execution_count": 48,
   "id": "4ecfa799-efe2-4807-a006-6ef0febd92dd",
   "metadata": {},
   "outputs": [
    {
     "data": {
      "text/plain": [
       "array([5, 6, 7, 8, 9, 4])"
      ]
     },
     "execution_count": 48,
     "metadata": {},
     "output_type": "execute_result"
    }
   ],
   "source": [
    "np11[3:]"
   ]
  },
  {
   "cell_type": "code",
   "execution_count": 50,
   "id": "c9639f53-db52-4223-8660-885d747ceb1d",
   "metadata": {},
   "outputs": [
    {
     "data": {
      "text/plain": [
       "array([8, 9])"
      ]
     },
     "execution_count": 50,
     "metadata": {},
     "output_type": "execute_result"
    }
   ],
   "source": [
    "np11[-3:-1]"
   ]
  },
  {
   "cell_type": "code",
   "execution_count": 52,
   "id": "c34bf392-b523-4ecf-b28e-f7312806313f",
   "metadata": {},
   "outputs": [
    {
     "data": {
      "text/plain": [
       "array([2, 5])"
      ]
     },
     "execution_count": 52,
     "metadata": {},
     "output_type": "execute_result"
    }
   ],
   "source": [
    "# steps\n",
    "np11[1:5:2]"
   ]
  },
  {
   "cell_type": "code",
   "execution_count": 54,
   "id": "5cfb276d-422f-4940-96d0-8387955d69ba",
   "metadata": {},
   "outputs": [
    {
     "data": {
      "text/plain": [
       "array([1, 3, 6, 8, 4])"
      ]
     },
     "execution_count": 54,
     "metadata": {},
     "output_type": "execute_result"
    }
   ],
   "source": [
    "np11[::2]"
   ]
  },
  {
   "cell_type": "code",
   "execution_count": 56,
   "id": "3c6cfc54-2885-48be-885a-5fbd5ae0bdcb",
   "metadata": {},
   "outputs": [
    {
     "data": {
      "text/plain": [
       "array([4, 9, 8, 7, 6, 5, 3, 2, 1])"
      ]
     },
     "execution_count": 56,
     "metadata": {},
     "output_type": "execute_result"
    }
   ],
   "source": [
    "# reverse\n",
    "np11[::-1]"
   ]
  },
  {
   "cell_type": "markdown",
   "id": "00e33530-0f20-4f0a-b596-a8a363eff034",
   "metadata": {},
   "source": [
    "**2-d array sclicing**"
   ]
  },
  {
   "cell_type": "code",
   "execution_count": 59,
   "id": "f2eb6d95-6187-4340-a0c8-f472924ef761",
   "metadata": {},
   "outputs": [
    {
     "data": {
      "text/plain": [
       "array([[1, 2, 3, 4],\n",
       "       [3, 2, 5, 4]])"
      ]
     },
     "execution_count": 59,
     "metadata": {},
     "output_type": "execute_result"
    }
   ],
   "source": [
    "np12=np.array([[1,2,3,4],[3,2,5,4]])\n",
    "np12"
   ]
  },
  {
   "cell_type": "code",
   "execution_count": 61,
   "id": "245d6871-c95b-48a7-b969-a33f464ffc69",
   "metadata": {},
   "outputs": [
    {
     "data": {
      "text/plain": [
       "5"
      ]
     },
     "execution_count": 61,
     "metadata": {},
     "output_type": "execute_result"
    }
   ],
   "source": [
    "np12[1,2]"
   ]
  },
  {
   "cell_type": "code",
   "execution_count": 71,
   "id": "a54646a5-aab7-43b2-bcce-334dea9d7d63",
   "metadata": {},
   "outputs": [
    {
     "data": {
      "text/plain": [
       "array([[2, 3],\n",
       "       [2, 5]])"
      ]
     },
     "execution_count": 71,
     "metadata": {},
     "output_type": "execute_result"
    }
   ],
   "source": [
    "np12[0:2,1:3] "
   ]
  },
  {
   "cell_type": "markdown",
   "id": "a42e85f8-2590-4c57-a93b-3086535cb789",
   "metadata": {},
   "source": [
    "**Universal Function**"
   ]
  },
  {
   "cell_type": "code",
   "execution_count": 74,
   "id": "ebbedf3f-eee3-4809-978a-015029c58e10",
   "metadata": {},
   "outputs": [
    {
     "data": {
      "text/plain": [
       "array([0, 1, 2, 3, 4, 5, 6, 7, 8, 9])"
      ]
     },
     "execution_count": 74,
     "metadata": {},
     "output_type": "execute_result"
    }
   ],
   "source": [
    "np2"
   ]
  },
  {
   "cell_type": "code",
   "execution_count": 76,
   "id": "d9e9d658-be83-465f-bc49-f57f9a9d7436",
   "metadata": {},
   "outputs": [
    {
     "data": {
      "text/plain": [
       "array([0.        , 1.        , 1.41421356, 1.73205081, 2.        ,\n",
       "       2.23606798, 2.44948974, 2.64575131, 2.82842712, 3.        ])"
      ]
     },
     "execution_count": 76,
     "metadata": {},
     "output_type": "execute_result"
    }
   ],
   "source": [
    "# sqaure root of each element\n",
    "np.sqrt(np2)"
   ]
  },
  {
   "cell_type": "code",
   "execution_count": 78,
   "id": "cdd2319b-8672-466c-ae40-2c71d820975c",
   "metadata": {},
   "outputs": [
    {
     "data": {
      "text/plain": [
       "array([ 3,  4,  5,  2,  3,  4,  5, 30, 34])"
      ]
     },
     "execution_count": 78,
     "metadata": {},
     "output_type": "execute_result"
    }
   ],
   "source": [
    "# absolute value\n",
    "np111=np.array([3,4,5,-2,3,-4,-5,30,-34])\n",
    "np.absolute(np111)"
   ]
  },
  {
   "cell_type": "code",
   "execution_count": 80,
   "id": "16bd7d60-94ae-410a-92ef-0e493f4aefec",
   "metadata": {},
   "outputs": [
    {
     "data": {
      "text/plain": [
       "array([1.00000000e+00, 2.71828183e+00, 7.38905610e+00, 2.00855369e+01,\n",
       "       5.45981500e+01, 1.48413159e+02, 4.03428793e+02, 1.09663316e+03,\n",
       "       2.98095799e+03, 8.10308393e+03])"
      ]
     },
     "execution_count": 80,
     "metadata": {},
     "output_type": "execute_result"
    }
   ],
   "source": [
    "# Exponents\n",
    "np.exp(np2)"
   ]
  },
  {
   "cell_type": "code",
   "execution_count": 82,
   "id": "4b8d518c-b208-4451-9a39-d59e236edc9d",
   "metadata": {},
   "outputs": [
    {
     "data": {
      "text/plain": [
       "30"
      ]
     },
     "execution_count": 82,
     "metadata": {},
     "output_type": "execute_result"
    }
   ],
   "source": [
    "np.max(np111)"
   ]
  },
  {
   "cell_type": "code",
   "execution_count": 84,
   "id": "2dc311a3-4441-4a50-a41b-588037f483b4",
   "metadata": {},
   "outputs": [
    {
     "data": {
      "text/plain": [
       "-34"
      ]
     },
     "execution_count": 84,
     "metadata": {},
     "output_type": "execute_result"
    }
   ],
   "source": [
    "np.min(np111)"
   ]
  },
  {
   "cell_type": "code",
   "execution_count": 86,
   "id": "9d42100e-9abd-4c25-bfdc-aba86c5372d3",
   "metadata": {},
   "outputs": [
    {
     "data": {
      "text/plain": [
       "array([ 1,  1,  1, -1,  1, -1, -1,  1, -1])"
      ]
     },
     "execution_count": 86,
     "metadata": {},
     "output_type": "execute_result"
    }
   ],
   "source": [
    " # sign \n",
    "np.sign(np111)"
   ]
  },
  {
   "cell_type": "code",
   "execution_count": 88,
   "id": "3d4607c7-fef1-463b-9d43-5613ca4640ad",
   "metadata": {},
   "outputs": [
    {
     "name": "stderr",
     "output_type": "stream",
     "text": [
      "C:\\Users\\arshi\\AppData\\Local\\Temp\\ipykernel_12580\\1065845855.py:2: RuntimeWarning: divide by zero encountered in log\n",
      "  np.log(np2)\n"
     ]
    },
    {
     "data": {
      "text/plain": [
       "array([      -inf, 0.        , 0.69314718, 1.09861229, 1.38629436,\n",
       "       1.60943791, 1.79175947, 1.94591015, 2.07944154, 2.19722458])"
      ]
     },
     "execution_count": 88,
     "metadata": {},
     "output_type": "execute_result"
    }
   ],
   "source": [
    "# Trignometric \n",
    "np.log(np2)"
   ]
  },
  {
   "cell_type": "code",
   "execution_count": 90,
   "id": "f0f40aa0-dfa8-4ee7-bbd7-9b3deac382ab",
   "metadata": {},
   "outputs": [
    {
     "data": {
      "text/plain": [
       "array([ 0.        ,  0.84147098,  0.90929743,  0.14112001, -0.7568025 ,\n",
       "       -0.95892427, -0.2794155 ,  0.6569866 ,  0.98935825,  0.41211849])"
      ]
     },
     "execution_count": 90,
     "metadata": {},
     "output_type": "execute_result"
    }
   ],
   "source": [
    "np.sin(np2)"
   ]
  },
  {
   "cell_type": "markdown",
   "id": "27c2287e-555c-4532-854d-906aef191ef9",
   "metadata": {},
   "source": [
    "**Copy Vs View**"
   ]
  },
  {
   "cell_type": "code",
   "execution_count": 93,
   "id": "bc6f0d0f-b821-4692-bbc5-6f972dfb930b",
   "metadata": {},
   "outputs": [
    {
     "data": {
      "text/plain": [
       "array([0, 1, 2, 3, 4, 5, 6, 7, 8, 9])"
      ]
     },
     "execution_count": 93,
     "metadata": {},
     "output_type": "execute_result"
    }
   ],
   "source": [
    "np2"
   ]
  },
  {
   "cell_type": "code",
   "execution_count": 95,
   "id": "df735409-98d1-4bd3-ad61-1c87aae8c9a8",
   "metadata": {},
   "outputs": [
    {
     "data": {
      "text/plain": [
       "array([0, 1, 2, 3, 4, 5, 6, 7, 8, 9])"
      ]
     },
     "execution_count": 95,
     "metadata": {},
     "output_type": "execute_result"
    }
   ],
   "source": [
    "# Create a view\n",
    "np2_1=np2.view()\n",
    "np2_1"
   ]
  },
  {
   "cell_type": "code",
   "execution_count": 97,
   "id": "e76e6c27-5692-4c49-9acd-107b73aa5949",
   "metadata": {},
   "outputs": [
    {
     "data": {
      "text/plain": [
       "array([ 0,  1,  2, 22,  4,  5,  6,  7,  8,  9])"
      ]
     },
     "execution_count": 97,
     "metadata": {},
     "output_type": "execute_result"
    }
   ],
   "source": [
    "np2[3]=22\n",
    "np2"
   ]
  },
  {
   "cell_type": "code",
   "execution_count": 99,
   "id": "cf14a79d-c298-426e-ad57-e4948fca4585",
   "metadata": {},
   "outputs": [
    {
     "data": {
      "text/plain": [
       "array([ 0,  1,  2, 22,  4,  5,  6,  7,  8,  9])"
      ]
     },
     "execution_count": 99,
     "metadata": {},
     "output_type": "execute_result"
    }
   ],
   "source": [
    "np2_1"
   ]
  },
  {
   "cell_type": "code",
   "execution_count": 101,
   "id": "b53fc0c5-d834-4983-9d2a-698aace1e5d1",
   "metadata": {},
   "outputs": [
    {
     "data": {
      "text/plain": [
       "array([ 0,  1, 21, 22,  4,  5,  6,  7,  8,  9])"
      ]
     },
     "execution_count": 101,
     "metadata": {},
     "output_type": "execute_result"
    }
   ],
   "source": [
    "np2_1[2]=21\n",
    "np2_1"
   ]
  },
  {
   "cell_type": "code",
   "execution_count": 103,
   "id": "3c39feb7-e8ec-4da2-91ce-07e2165fe0b0",
   "metadata": {},
   "outputs": [
    {
     "data": {
      "text/plain": [
       "array([ 0,  1, 21, 22,  4,  5,  6,  7,  8,  9])"
      ]
     },
     "execution_count": 103,
     "metadata": {},
     "output_type": "execute_result"
    }
   ],
   "source": [
    "np2"
   ]
  },
  {
   "cell_type": "code",
   "execution_count": 107,
   "id": "d9405df0-bb73-4ec3-b445-7bb2905939de",
   "metadata": {},
   "outputs": [
    {
     "data": {
      "text/plain": [
       "array([ 0,  1, 21, 22,  4,  5,  6,  7,  8,  9])"
      ]
     },
     "execution_count": 107,
     "metadata": {},
     "output_type": "execute_result"
    }
   ],
   "source": [
    "# copy\n",
    "np2_2=np2.copy()\n",
    "np2_2"
   ]
  },
  {
   "cell_type": "code",
   "execution_count": 109,
   "id": "3d49cb39-5d3d-40a7-ac55-d9c76bed5139",
   "metadata": {},
   "outputs": [
    {
     "data": {
      "text/plain": [
       "array([ 0,  1,  2, 22,  4,  5,  6,  7,  8,  9])"
      ]
     },
     "execution_count": 109,
     "metadata": {},
     "output_type": "execute_result"
    }
   ],
   "source": [
    "np2[2]=2\n",
    "np2"
   ]
  },
  {
   "cell_type": "code",
   "execution_count": 111,
   "id": "c2ae0cba-ce48-425a-a0fa-7d59f31fc42a",
   "metadata": {},
   "outputs": [
    {
     "data": {
      "text/plain": [
       "array([ 0,  1, 21, 22,  4,  5,  6,  7,  8,  9])"
      ]
     },
     "execution_count": 111,
     "metadata": {},
     "output_type": "execute_result"
    }
   ],
   "source": [
    "np2_2"
   ]
  },
  {
   "cell_type": "code",
   "execution_count": 113,
   "id": "92c99faf-a84d-4efc-9555-c1de5b8c0ada",
   "metadata": {},
   "outputs": [
    {
     "data": {
      "text/plain": [
       "array([ 0,  1, 21,  3,  4,  5,  6,  7,  8,  9])"
      ]
     },
     "execution_count": 113,
     "metadata": {},
     "output_type": "execute_result"
    }
   ],
   "source": [
    "np2_2[3]=3\n",
    "np2_2"
   ]
  },
  {
   "cell_type": "code",
   "execution_count": 115,
   "id": "4f81f2e9-0ff7-421c-a596-c21bdc6c67c3",
   "metadata": {},
   "outputs": [
    {
     "data": {
      "text/plain": [
       "array([ 0,  1,  2, 22,  4,  5,  6,  7,  8,  9])"
      ]
     },
     "execution_count": 115,
     "metadata": {},
     "output_type": "execute_result"
    }
   ],
   "source": [
    "np2"
   ]
  },
  {
   "cell_type": "markdown",
   "id": "f420ccf1-1fac-48f3-b7a5-f79684341f59",
   "metadata": {},
   "source": [
    "**Shape and Reshape**"
   ]
  },
  {
   "cell_type": "code",
   "execution_count": 118,
   "id": "c151ca9c-183f-4f8a-a7ff-b3f25d55f450",
   "metadata": {},
   "outputs": [
    {
     "data": {
      "text/plain": [
       "(10,)"
      ]
     },
     "execution_count": 118,
     "metadata": {},
     "output_type": "execute_result"
    }
   ],
   "source": [
    "np2.shape"
   ]
  },
  {
   "cell_type": "code",
   "execution_count": 120,
   "id": "482fc1b9-e9d2-4f11-a078-87b2764d00b1",
   "metadata": {},
   "outputs": [
    {
     "data": {
      "text/plain": [
       "(3, 2)"
      ]
     },
     "execution_count": 120,
     "metadata": {},
     "output_type": "execute_result"
    }
   ],
   "source": [
    "np2d=np.array([[1,2],[3,4],[5,6]])\n",
    "np2d.shape"
   ]
  },
  {
   "cell_type": "code",
   "execution_count": 140,
   "id": "90bee041-cb4f-455f-a636-24ed1715c83a",
   "metadata": {},
   "outputs": [
    {
     "data": {
      "text/plain": [
       "array([ 1,  2,  3,  4,  5,  6,  7,  8,  9, 10, 11, 12])"
      ]
     },
     "execution_count": 140,
     "metadata": {},
     "output_type": "execute_result"
    }
   ],
   "source": [
    "# reshape\n",
    "np33=np.arange(1,13)\n",
    "np33"
   ]
  },
  {
   "cell_type": "code",
   "execution_count": 142,
   "id": "73d7011a-9351-4c99-85e7-434d0d49552b",
   "metadata": {},
   "outputs": [
    {
     "data": {
      "text/plain": [
       "array([[ 1,  2,  3,  4],\n",
       "       [ 5,  6,  7,  8],\n",
       "       [ 9, 10, 11, 12]])"
      ]
     },
     "execution_count": 142,
     "metadata": {},
     "output_type": "execute_result"
    }
   ],
   "source": [
    "# reshape to 2d\n",
    "np33.reshape(3,4)"
   ]
  },
  {
   "cell_type": "code",
   "execution_count": 134,
   "id": "2eea6b6d-566f-430e-ab4c-31a8bd75fdcb",
   "metadata": {},
   "outputs": [
    {
     "data": {
      "text/plain": [
       "array([[1, 2, 3, 4, 5, 6]])"
      ]
     },
     "execution_count": 134,
     "metadata": {},
     "output_type": "execute_result"
    }
   ],
   "source": [
    "np2d.reshape(1,6)"
   ]
  },
  {
   "cell_type": "code",
   "execution_count": 144,
   "id": "74eb2f1d-b049-4bc2-b98b-5271025c6288",
   "metadata": {},
   "outputs": [
    {
     "data": {
      "text/plain": [
       "array([[[ 1,  2],\n",
       "        [ 3,  4],\n",
       "        [ 5,  6]],\n",
       "\n",
       "       [[ 7,  8],\n",
       "        [ 9, 10],\n",
       "        [11, 12]]])"
      ]
     },
     "execution_count": 144,
     "metadata": {},
     "output_type": "execute_result"
    }
   ],
   "source": [
    "# reshape to 3d\n",
    "np33.reshape(2,3,2)"
   ]
  },
  {
   "cell_type": "code",
   "execution_count": 148,
   "id": "54687e6b-629c-4338-aca5-db3fcb793683",
   "metadata": {},
   "outputs": [
    {
     "data": {
      "text/plain": [
       "array([ 1,  2,  3,  4,  5,  6,  7,  8,  9, 10, 11, 12])"
      ]
     },
     "execution_count": 148,
     "metadata": {},
     "output_type": "execute_result"
    }
   ],
   "source": [
    "# flatten to 1d\n",
    "np33.reshape(-1)"
   ]
  },
  {
   "cell_type": "markdown",
   "id": "b3d04073-ac6a-4b9f-b7a4-b851357adf9d",
   "metadata": {},
   "source": [
    "**iterate through numpy array**"
   ]
  },
  {
   "cell_type": "code",
   "execution_count": 151,
   "id": "979d0d46-14fd-415b-b5e3-e40f623ff783",
   "metadata": {},
   "outputs": [
    {
     "data": {
      "text/plain": [
       "array([ 1,  2,  3,  4,  5,  6,  7,  8,  9, 10])"
      ]
     },
     "execution_count": 151,
     "metadata": {},
     "output_type": "execute_result"
    }
   ],
   "source": [
    "# through 1d\n",
    "np1=np.arange(1,11)\n",
    "np1"
   ]
  },
  {
   "cell_type": "code",
   "execution_count": 153,
   "id": "3588ac4e-faf8-4e06-82e7-d6bc16337ea5",
   "metadata": {},
   "outputs": [
    {
     "name": "stdout",
     "output_type": "stream",
     "text": [
      "1\n",
      "2\n",
      "3\n",
      "4\n",
      "5\n",
      "6\n",
      "7\n",
      "8\n",
      "9\n",
      "10\n"
     ]
    }
   ],
   "source": [
    "for x in np1:\n",
    "    print(x)"
   ]
  },
  {
   "cell_type": "code",
   "execution_count": 155,
   "id": "49e2f8f6-d0a0-43e0-8391-1f5ec1b74914",
   "metadata": {},
   "outputs": [
    {
     "data": {
      "text/plain": [
       "array([[ 1,  2,  3,  4,  5],\n",
       "       [ 6,  7,  8,  9, 10]])"
      ]
     },
     "execution_count": 155,
     "metadata": {},
     "output_type": "execute_result"
    }
   ],
   "source": [
    "# through 2d\n",
    "np2=np.array([[1,2,3,4,5],[6,7,8,9,10]])\n",
    "np2"
   ]
  },
  {
   "cell_type": "code",
   "execution_count": 157,
   "id": "b4c9adff-c8e8-4428-b762-b9027a0e5c5f",
   "metadata": {},
   "outputs": [
    {
     "name": "stdout",
     "output_type": "stream",
     "text": [
      "[1 2 3 4 5]\n",
      "[ 6  7  8  9 10]\n"
     ]
    }
   ],
   "source": [
    "for x in np2:\n",
    "    print(x)"
   ]
  },
  {
   "cell_type": "code",
   "execution_count": 159,
   "id": "a68e73b7-2933-4b35-8a9d-259bb3baaf8e",
   "metadata": {},
   "outputs": [
    {
     "name": "stdout",
     "output_type": "stream",
     "text": [
      "1\n",
      "2\n",
      "3\n",
      "4\n",
      "5\n",
      "6\n",
      "7\n",
      "8\n",
      "9\n",
      "10\n"
     ]
    }
   ],
   "source": [
    "for x in np2:\n",
    "    for y in x:\n",
    "        print(y)"
   ]
  },
  {
   "cell_type": "code",
   "execution_count": 175,
   "id": "ac854576-6825-48f1-90b0-f3ab5fa95562",
   "metadata": {},
   "outputs": [
    {
     "name": "stdout",
     "output_type": "stream",
     "text": [
      "1\n",
      "2\n",
      "3\n",
      "4\n",
      "5\n",
      "6\n",
      "7\n",
      "8\n",
      "9\n",
      "10\n"
     ]
    }
   ],
   "source": [
    "# using np.nditer()\n",
    "for x in np.nditer(np2):\n",
    "    print(x)"
   ]
  },
  {
   "cell_type": "code",
   "execution_count": 165,
   "id": "93aba619-4cb5-49f8-8995-cecd6b055c5a",
   "metadata": {},
   "outputs": [
    {
     "data": {
      "text/plain": [
       "array([[[ 1,  2,  3],\n",
       "        [ 4,  5,  6]],\n",
       "\n",
       "       [[ 7,  8,  9],\n",
       "        [10, 11, 12]]])"
      ]
     },
     "execution_count": 165,
     "metadata": {},
     "output_type": "execute_result"
    }
   ],
   "source": [
    "# through 3d\n",
    "np3=np.array([[[1,2,3],[4,5,6]],[[7,8,9],[10,11,12]]])\n",
    "np3"
   ]
  },
  {
   "cell_type": "code",
   "execution_count": 167,
   "id": "ad1a2dfc-e7d8-4397-9073-300075f86d93",
   "metadata": {},
   "outputs": [
    {
     "name": "stdout",
     "output_type": "stream",
     "text": [
      "[[1 2 3]\n",
      " [4 5 6]]\n",
      "[[ 7  8  9]\n",
      " [10 11 12]]\n"
     ]
    }
   ],
   "source": [
    "for x in np3:\n",
    "    print(x)"
   ]
  },
  {
   "cell_type": "code",
   "execution_count": 169,
   "id": "f7cd0489-d676-4f6c-a6c6-713593165066",
   "metadata": {},
   "outputs": [
    {
     "name": "stdout",
     "output_type": "stream",
     "text": [
      "[1 2 3]\n",
      "[4 5 6]\n",
      "[7 8 9]\n",
      "[10 11 12]\n"
     ]
    }
   ],
   "source": [
    "for x in np3:\n",
    "    for y in x:\n",
    "        print(y)"
   ]
  },
  {
   "cell_type": "code",
   "execution_count": 171,
   "id": "5ebe81a0-d686-4b00-ba8f-2188ac157e20",
   "metadata": {},
   "outputs": [
    {
     "name": "stdout",
     "output_type": "stream",
     "text": [
      "1\n",
      "2\n",
      "3\n",
      "4\n",
      "5\n",
      "6\n",
      "7\n",
      "8\n",
      "9\n",
      "10\n",
      "11\n",
      "12\n"
     ]
    }
   ],
   "source": [
    "for x in np3:\n",
    "    for y in x:\n",
    "        for z in y:\n",
    "            print(z)"
   ]
  },
  {
   "cell_type": "code",
   "execution_count": 173,
   "id": "31614980-0a94-4782-871f-aa18cd27477a",
   "metadata": {},
   "outputs": [
    {
     "name": "stdout",
     "output_type": "stream",
     "text": [
      "1\n",
      "2\n",
      "3\n",
      "4\n",
      "5\n",
      "6\n",
      "7\n",
      "8\n",
      "9\n",
      "10\n",
      "11\n",
      "12\n"
     ]
    }
   ],
   "source": [
    "# using np.nditer()\n",
    "for x in np.nditer(np3):\n",
    "    print(x)"
   ]
  },
  {
   "cell_type": "markdown",
   "id": "eecee224-20e7-4ae6-8f96-aff59255d2b0",
   "metadata": {},
   "source": [
    "**sorting numpy array**"
   ]
  },
  {
   "cell_type": "code",
   "execution_count": 178,
   "id": "7bcc4bdc-c522-4870-a171-5077a126f244",
   "metadata": {},
   "outputs": [
    {
     "data": {
      "text/plain": [
       "array([1, 4, 3, 2, 5, 7, 3])"
      ]
     },
     "execution_count": 178,
     "metadata": {},
     "output_type": "execute_result"
    }
   ],
   "source": [
    "np1=np.array([1,4,3,2,5,7,3])\n",
    "np1"
   ]
  },
  {
   "cell_type": "code",
   "execution_count": 182,
   "id": "57553f52-ba5c-488f-a7e7-76d46157d796",
   "metadata": {},
   "outputs": [
    {
     "data": {
      "text/plain": [
       "array([1, 2, 3, 3, 4, 5, 7])"
      ]
     },
     "execution_count": 182,
     "metadata": {},
     "output_type": "execute_result"
    }
   ],
   "source": [
    "np.sort(np1)"
   ]
  },
  {
   "cell_type": "code",
   "execution_count": 186,
   "id": "e0949106-ec6b-4736-b17f-1734b73b3cc2",
   "metadata": {},
   "outputs": [
    {
     "name": "stdout",
     "output_type": "stream",
     "text": [
      "['ars' 'gshs' 'zhaf' 'dgh' 'asd']\n",
      "['ars' 'asd' 'dgh' 'gshs' 'zhaf']\n"
     ]
    }
   ],
   "source": [
    "np2=np.array(['ars','gshs','zhaf','dgh','asd'])\n",
    "print(np2)\n",
    "print(np.sort(np2))"
   ]
  },
  {
   "cell_type": "code",
   "execution_count": 190,
   "id": "60e94e84-37ce-4cb5-aeb6-c686a29045f4",
   "metadata": {},
   "outputs": [
    {
     "data": {
      "text/plain": [
       "array([False, False, False,  True,  True])"
      ]
     },
     "execution_count": 190,
     "metadata": {},
     "output_type": "execute_result"
    }
   ],
   "source": [
    "np3=np.array([True,False,False,True,False])\n",
    "np.sort(np3)"
   ]
  },
  {
   "cell_type": "code",
   "execution_count": 192,
   "id": "7581d3a4-b99c-4166-b79d-73a39f47f154",
   "metadata": {},
   "outputs": [
    {
     "data": {
      "text/plain": [
       "array([[ 5, 34,  3],\n",
       "       [ 4,  5, 23]])"
      ]
     },
     "execution_count": 192,
     "metadata": {},
     "output_type": "execute_result"
    }
   ],
   "source": [
    "# 2d array\n",
    "\n",
    "np4=np.array([[5,34,3],[4,5,23]])\n",
    "np4"
   ]
  },
  {
   "cell_type": "code",
   "execution_count": 194,
   "id": "050f8514-657a-4152-925a-002279ee1412",
   "metadata": {},
   "outputs": [
    {
     "data": {
      "text/plain": [
       "array([[ 3,  5, 34],\n",
       "       [ 4,  5, 23]])"
      ]
     },
     "execution_count": 194,
     "metadata": {},
     "output_type": "execute_result"
    }
   ],
   "source": [
    "np.sort(np4)"
   ]
  },
  {
   "cell_type": "markdown",
   "id": "779fabb9-65c2-49bf-84be-9bf77ef336b4",
   "metadata": {},
   "source": [
    "**Search**"
   ]
  },
  {
   "cell_type": "code",
   "execution_count": 197,
   "id": "3e48aa1f-62dc-4fd5-9885-25049f3e8dc4",
   "metadata": {},
   "outputs": [
    {
     "data": {
      "text/plain": [
       "array([1, 2, 3, 3, 4, 5, 7])"
      ]
     },
     "execution_count": 197,
     "metadata": {},
     "output_type": "execute_result"
    }
   ],
   "source": [
    "np1"
   ]
  },
  {
   "cell_type": "code",
   "execution_count": 199,
   "id": "a7a424ca-5cdf-4480-a1c7-14943b2d9ea9",
   "metadata": {},
   "outputs": [
    {
     "data": {
      "text/plain": [
       "(array([2, 3], dtype=int64),)"
      ]
     },
     "execution_count": 199,
     "metadata": {},
     "output_type": "execute_result"
    }
   ],
   "source": [
    "x=np.where(np1==3)\n",
    "x"
   ]
  },
  {
   "cell_type": "code",
   "execution_count": 212,
   "id": "80923f11-8714-4100-b2c5-2aead7e46ff0",
   "metadata": {},
   "outputs": [
    {
     "data": {
      "text/plain": [
       "array([3, 3])"
      ]
     },
     "execution_count": 212,
     "metadata": {},
     "output_type": "execute_result"
    }
   ],
   "source": [
    "np1[x]"
   ]
  },
  {
   "cell_type": "code",
   "execution_count": 214,
   "id": "1b30d813-eab6-4f78-959d-5f0f2a0a393b",
   "metadata": {},
   "outputs": [
    {
     "data": {
      "text/plain": [
       "(array([1, 4], dtype=int64),)"
      ]
     },
     "execution_count": 214,
     "metadata": {},
     "output_type": "execute_result"
    }
   ],
   "source": [
    "# return even \n",
    "x=np.where(np1%2==0)\n",
    "x"
   ]
  },
  {
   "cell_type": "code",
   "execution_count": 216,
   "id": "90e865b3-7e78-48a4-a857-4b6a279ac32d",
   "metadata": {},
   "outputs": [
    {
     "data": {
      "text/plain": [
       "array([2, 4])"
      ]
     },
     "execution_count": 216,
     "metadata": {},
     "output_type": "execute_result"
    }
   ],
   "source": [
    "np1[x]"
   ]
  },
  {
   "cell_type": "markdown",
   "id": "29100780-1777-44df-8555-3eb95910c327",
   "metadata": {},
   "source": [
    "**Filter numpy array**"
   ]
  },
  {
   "cell_type": "code",
   "execution_count": 219,
   "id": "a26721fd-09b1-4c0a-9be1-92de1857294b",
   "metadata": {},
   "outputs": [
    {
     "data": {
      "text/plain": [
       "array([1, 2, 3, 3, 4, 5, 7])"
      ]
     },
     "execution_count": 219,
     "metadata": {},
     "output_type": "execute_result"
    }
   ],
   "source": [
    "np1"
   ]
  },
  {
   "cell_type": "code",
   "execution_count": 221,
   "id": "185d965e-b19f-4e68-b8c1-892ca1d60e92",
   "metadata": {},
   "outputs": [
    {
     "data": {
      "text/plain": [
       "array([1, 3, 3])"
      ]
     },
     "execution_count": 221,
     "metadata": {},
     "output_type": "execute_result"
    }
   ],
   "source": [
    "x=[True,False,True,True,False,False,False]\n",
    "np1[x]"
   ]
  },
  {
   "cell_type": "code",
   "execution_count": 223,
   "id": "22bc43b7-827f-4932-b7d1-251c59942e77",
   "metadata": {},
   "outputs": [
    {
     "name": "stdout",
     "output_type": "stream",
     "text": [
      "[2 4]\n"
     ]
    }
   ],
   "source": [
    "def filt(arr):\n",
    "    filtered=[]\n",
    "    for x in np1:\n",
    "        if x%2==0:\n",
    "            filtered.append(True)\n",
    "        else:\n",
    "            filtered.append(False)\n",
    "    return arr[filtered]\n",
    "\n",
    "print(filt(np1))"
   ]
  },
  {
   "cell_type": "code",
   "execution_count": 225,
   "id": "9375f5f4-4e96-44be-bcd9-a74c7a15e31a",
   "metadata": {},
   "outputs": [
    {
     "data": {
      "text/plain": [
       "array([2, 4])"
      ]
     },
     "execution_count": 225,
     "metadata": {},
     "output_type": "execute_result"
    }
   ],
   "source": [
    "# shortcut\n",
    "filtered=np1 % 2==0\n",
    "np1[filtered]"
   ]
  },
  {
   "cell_type": "code",
   "execution_count": null,
   "id": "a25c9290-7d90-4bdd-b93f-0587b001ed7a",
   "metadata": {},
   "outputs": [],
   "source": []
  }
 ],
 "metadata": {
  "kernelspec": {
   "display_name": "Python 3 (ipykernel)",
   "language": "python",
   "name": "python3"
  },
  "language_info": {
   "codemirror_mode": {
    "name": "ipython",
    "version": 3
   },
   "file_extension": ".py",
   "mimetype": "text/x-python",
   "name": "python",
   "nbconvert_exporter": "python",
   "pygments_lexer": "ipython3",
   "version": "3.12.7"
  }
 },
 "nbformat": 4,
 "nbformat_minor": 5
}
